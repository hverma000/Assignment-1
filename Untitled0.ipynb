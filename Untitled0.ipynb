{
  "nbformat": 4,
  "nbformat_minor": 0,
  "metadata": {
    "colab": {
      "provenance": []
    },
    "kernelspec": {
      "name": "python3",
      "display_name": "Python 3"
    },
    "language_info": {
      "name": "python"
    }
  },
  "cells": [
    {
      "cell_type": "markdown",
      "source": [
        "Q1. Create one variable containing following type of data:\n",
        "(i) string\n",
        "(ii) list\n",
        "(iii) float\n",
        "(iv) tuple"
      ],
      "metadata": {
        "id": "tZmcWaICu1Db"
      }
    },
    {
      "cell_type": "code",
      "execution_count": null,
      "metadata": {
        "colab": {
          "base_uri": "https://localhost:8080/"
        },
        "id": "cObhG8equTQ2",
        "outputId": "ff41c872-ca10-49b5-c05a-de28217083ee",
        "collapsed": true
      },
      "outputs": [
        {
          "output_type": "stream",
          "name": "stdout",
          "text": [
            "<class 'str'>\n",
            "<class 'list'>\n",
            "<class 'float'>\n",
            "<class 'tuple'>\n"
          ]
        }
      ],
      "source": [
        "variable = [\"Hello\", [1, 2, 3], 3.14, (4, 5, 6)]\n",
        "for i in variable :\n",
        "  print(type(i))\n"
      ]
    },
    {
      "cell_type": "markdown",
      "source": [
        "Q2. Given are some following variables containing data:\n",
        "(i) var1 = ‘ ‘\n",
        "(ii) var2 = ‘[ DS , ML , Python]’\n",
        "(iii) var3 = [ ‘DS’ , ’ML’ , ‘Python’ ]\n",
        "(iv) var4 = 1."
      ],
      "metadata": {
        "id": "K__1xbnAyvln"
      }
    },
    {
      "cell_type": "code",
      "source": [
        "var1 = ' '                            # (i) An space character a string\n",
        "var2 = '[ DS , ML , Python]'         # (ii) A string that looks like a list, but it's actually just a string\n",
        "var3 = ['DS', 'ML', 'Python']        # (iii) A real list of strings\n",
        "var4 = 1.                            # (iv) A float value\n"
      ],
      "metadata": {
        "id": "JvyrKyfAzET4"
      },
      "execution_count": null,
      "outputs": []
    },
    {
      "cell_type": "markdown",
      "source": [
        "Q3. Explain the use of the following operators using an example:\n",
        "(i) /\n",
        "(ii) %\n",
        "(iii) //\n",
        "(iv) **"
      ],
      "metadata": {
        "id": "yKdMC1Y1zv_v"
      }
    },
    {
      "cell_type": "code",
      "source": [
        "result = 10/5\n",
        "print(result)\n",
        "\n",
        "modulus  = 15 % 7\n",
        "print(modulus )\n",
        "\n",
        "division = 95 // 45\n",
        "print(division)\n",
        "\n",
        "result1 = 5 ** 4\n",
        "print(result1)"
      ],
      "metadata": {
        "colab": {
          "base_uri": "https://localhost:8080/"
        },
        "id": "AeQeE6xmz7Co",
        "outputId": "a50498cc-f31a-42f1-e1af-ba8e2b8fc4a9",
        "collapsed": true
      },
      "execution_count": null,
      "outputs": [
        {
          "output_type": "stream",
          "name": "stdout",
          "text": [
            "2.0\n",
            "1\n",
            "2\n",
            "625\n"
          ]
        }
      ]
    },
    {
      "cell_type": "markdown",
      "source": [],
      "metadata": {
        "id": "3Ln-i7Rcz6oH"
      }
    },
    {
      "cell_type": "markdown",
      "source": [
        "Q4. Create a list of length 10 of your choice containing multiple types of data. Using for loop print the\n",
        "element and its data type."
      ],
      "metadata": {
        "id": "Cckyonq11eag"
      }
    },
    {
      "cell_type": "code",
      "source": [
        "list = [3.14,\"Python\", True, None,[1, 2, 3],(4, 5),{7, 8, 9}]\n",
        "\n",
        "for i in list :\n",
        "  print(type(i))"
      ],
      "metadata": {
        "colab": {
          "base_uri": "https://localhost:8080/"
        },
        "id": "Fv-W-kN_1gRA",
        "outputId": "0c4cfb03-c70e-410b-aada-dffe07d74138",
        "collapsed": true
      },
      "execution_count": null,
      "outputs": [
        {
          "output_type": "stream",
          "name": "stdout",
          "text": [
            "<class 'float'>\n",
            "<class 'str'>\n",
            "<class 'bool'>\n",
            "<class 'NoneType'>\n",
            "<class 'list'>\n",
            "<class 'tuple'>\n",
            "<class 'set'>\n"
          ]
        }
      ]
    },
    {
      "cell_type": "markdown",
      "source": [
        "Q5. Using a while loop, verify if the number A is purely divisible by number B and if so then how many\n",
        "times it can be divisible."
      ],
      "metadata": {
        "id": "-KNDDDFJ8ZVg"
      }
    },
    {
      "cell_type": "code",
      "source": [
        "a = 80\n",
        "b = 2\n",
        "\n",
        "count = 0\n",
        "\n",
        "while a % b == 0:\n",
        "    a = a // b\n",
        "    count += 1\n",
        "\n",
        "print(count)"
      ],
      "metadata": {
        "colab": {
          "base_uri": "https://localhost:8080/"
        },
        "id": "mMcm-UGk8Z7L",
        "outputId": "05415434-c487-4ad3-956a-1adf5ebc4cec"
      },
      "execution_count": null,
      "outputs": [
        {
          "output_type": "stream",
          "name": "stdout",
          "text": [
            "4\n"
          ]
        }
      ]
    },
    {
      "cell_type": "markdown",
      "source": [
        "Q6. Create a list containing 25 int type data. Using for loop and if-else condition print if the element is\n",
        "divisible by 3 or not."
      ],
      "metadata": {
        "id": "1TtBKpGz-L2A"
      }
    },
    {
      "cell_type": "code",
      "source": [
        "numbers = [1, 3, 5, 6, 9, 11, 12, 14, 15, 18,\n",
        "           20, 21, 22, 24, 27, 28, 30, 33, 35, 36,\n",
        "           37, 39, 40, 42, 45]\n",
        "\n",
        "for i in numbers:\n",
        "  if i % 3 == 0:\n",
        "    print(i) # divisible by 3\n",
        "\n",
        "  else :print(i) # divisible by 3"
      ],
      "metadata": {
        "colab": {
          "base_uri": "https://localhost:8080/"
        },
        "id": "sO8EJVYr-M4H",
        "outputId": "746c46da-d817-47d5-da75-9e5d998c9006",
        "collapsed": true
      },
      "execution_count": 2,
      "outputs": [
        {
          "output_type": "stream",
          "name": "stdout",
          "text": [
            "1\n",
            "3\n",
            "5\n",
            "6\n",
            "9\n",
            "11\n",
            "12\n",
            "14\n",
            "15\n",
            "18\n",
            "20\n",
            "21\n",
            "22\n",
            "24\n",
            "27\n",
            "28\n",
            "30\n",
            "33\n",
            "35\n",
            "36\n",
            "37\n",
            "39\n",
            "40\n",
            "42\n",
            "45\n"
          ]
        }
      ]
    },
    {
      "cell_type": "markdown",
      "source": [
        "Q7. What do you understand about mutable and immutable data types? Give examples for both showing\n",
        "this property."
      ],
      "metadata": {
        "id": "Ge2e4nN8DJRm"
      }
    },
    {
      "cell_type": "code",
      "source": [
        "# mutable\n",
        "\n",
        "list = [1, 2, 3,10]\n",
        "print(list)\n",
        "\n",
        "list[1] = 40\n",
        "print(list)\n",
        "\n",
        "\n",
        "# immutable\n",
        "\n",
        "\n",
        "a = \"hello\"\n",
        "print(a)\n",
        "\n",
        "b = a.replace(\"h\", \"g\")\n",
        "print(b)\n",
        "print( a)\n"
      ],
      "metadata": {
        "colab": {
          "base_uri": "https://localhost:8080/"
        },
        "id": "cRAu4CISDKAW",
        "outputId": "6ca51069-4a5a-4dc4-eaf8-49f9b5e3fc2a",
        "collapsed": true
      },
      "execution_count": 3,
      "outputs": [
        {
          "output_type": "stream",
          "name": "stdout",
          "text": [
            "[1, 2, 3, 10]\n",
            "[1, 40, 3, 10]\n",
            "hello\n",
            "gello\n",
            "hello\n"
          ]
        }
      ]
    }
  ]
}